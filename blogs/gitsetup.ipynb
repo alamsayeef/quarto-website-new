{
  "cells": [
    {
      "cell_type": "raw",
      "metadata": {},
      "source": [
        "---\n",
        "title: \"Git and SSH Setup Guide\"\n",
        "categories: [Terminal, Programming]\n",
        "---"
      ],
      "id": "a7d2c346"
    },
    {
      "cell_type": "markdown",
      "metadata": {},
      "source": [
        "# Introduction\n",
        "\n",
        "This guide provides step-by-step instructions to:\n",
        "\n",
        "1. Connect your Git account\n",
        "2. Set up SSH keys\n",
        "3. Create a local Git repository\n",
        "4 .Link it to an online repository\n",
        "\n",
        "# Step 1: Connect Git Account\n",
        "\n",
        "- Hoping that you have git downloaded and installed if not you can download from [official website](https://git-scm.com/downloads)\n",
        "- Configure your Git identity:\n",
        "\n",
        "\n",
        "```{sh, eval = F}\n",
        "git config --global user.name \"Your Name\"\n",
        "git config --global user.email \"your.email@example.com\"\n",
        "```\n",
        "\n",
        "\n",
        "# Step 2: Set Up SSH Keys\n",
        "\n",
        "Generate SSH key:\n",
        "\n",
        "\n",
        "Press Enter to accept the default file location.\n",
        "\n",
        "Start the SSH agent:\n",
        "\n",
        "\n",
        "Add your SSH key to the agent:\n",
        "\n",
        "\n",
        "Copy the SSH key to your clipboard:\n",
        "\n",
        "\n",
        "Add the key to your Git hosting service (e.g., GitHub, GitLab) under SSH settings.\n",
        "\n",
        "Step 3: Create Local Git Repository\n",
        "Navigate to your project directory:\n",
        "\n",
        "\n",
        "Initialize Git:\n",
        "\n",
        "\n",
        "Add files and commit:\n",
        "\n",
        "\n",
        "Step 4: Link to Online Repository\n",
        "Create a new repository on GitHub/GitLab (without README if already committed locally).\n",
        "\n",
        "Link your local repo:\n",
        "\n",
        "\n",
        "Push your code:\n"
      ],
      "id": "40a9eb6f"
    }
  ],
  "metadata": {
    "kernelspec": {
      "display_name": "Python 3",
      "language": "python",
      "name": "python3"
    }
  },
  "nbformat": 4,
  "nbformat_minor": 5
}